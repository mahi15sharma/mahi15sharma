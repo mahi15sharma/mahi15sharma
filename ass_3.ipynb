{
  "nbformat": 4,
  "nbformat_minor": 0,
  "metadata": {
    "colab": {
      "name": "ass-3.ipynb",
      "provenance": []
    },
    "kernelspec": {
      "name": "python3",
      "display_name": "Python 3"
    },
    "language_info": {
      "name": "python"
    }
  },
  "cells": [
    {
      "cell_type": "code",
      "metadata": {
        "colab": {
          "base_uri": "https://localhost:8080/"
        },
        "id": "sv-jqxUsCD-x",
        "outputId": "aa7b4d69-63c5-4ece-a455-84366d2408c2"
      },
      "source": [
        "#lists example\n",
        "lst=[\"mahi\",\"rohit\",\"rani\",\"ravi\",\"ram\",\"raj\",\"navi\"]\n",
        "#create dictionary\n",
        "dic={\n",
        "    \"name\":\"mahi\",\n",
        "     \"mobile_no\":\"5869865\",\n",
        "     \"pin_no\":\"68531\",\n",
        "    \"email\":\"mahi@gmail.com\",\n",
        "    \"add\":\"jodhpur\"\n",
        "}\n",
        "#create set\n",
        "s1=set(lst)\n",
        "#create tuple\n",
        "t=(\"row1\",\"row2\",\"row3\",\"row4\")\n",
        "st=\"this is the example of list,dictionary,set and tuple\"\n",
        "print(\"list is:\",lst)\n",
        "print(\"dictionary is:\",dic)\n",
        "print(\"set is:\",s1)\n",
        "print(\"tuple is:\",t)\n",
        "print(\"string is:\",st)\n",
        "\n"
      ],
      "execution_count": 9,
      "outputs": [
        {
          "output_type": "stream",
          "text": [
            "list is: ['mahi', 'rohit', 'rani', 'ravi', 'ram', 'raj', 'navi']\n",
            "dictionary is: {'name': 'mahi', 'mobile_no': '5869865', 'pin_no': '68531', 'email': 'mahi@gmail.com', 'add': 'jodhpur'}\n",
            "set is: {'ram', 'rohit', 'navi', 'rani', 'raj', 'mahi', 'ravi'}\n",
            "tuple is: ('row1', 'row2', 'row3', 'row4')\n",
            "string is: this is the example of list,dictionary,set and tuple\n"
          ],
          "name": "stdout"
        }
      ]
    }
  ]
}