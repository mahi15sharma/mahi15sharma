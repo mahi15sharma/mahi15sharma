{
  "nbformat": 4,
  "nbformat_minor": 0,
  "metadata": {
    "colab": {
      "name": "assignment1.ipynb",
      "provenance": []
    },
    "kernelspec": {
      "name": "python3",
      "display_name": "Python 3"
    },
    "language_info": {
      "name": "python"
    }
  },
  "cells": [
    {
      "cell_type": "code",
      "metadata": {
        "colab": {
          "base_uri": "https://localhost:8080/"
        },
        "id": "zFZOvq1_9UVK",
        "outputId": "b1335a02-e44e-4c7b-e5c1-69ab553901c1"
      },
      "source": [
        "a=int(input(\"enter your number\"))\n",
        "b=int(input(\"enter second number\"))\n",
        "sum=a+b\n",
        "sub=a-b\n",
        "mul=a*b\n",
        "div=a//b\n",
        "div1=a/b\n",
        "print(\"sum is\",sum)\n",
        "print(\"subtraction is\",sub)\n",
        "print(\"multiplication] is\",mul)\n",
        "print(\"integer division is\",div)\n",
        "print(\"floating point division is\",div1)"
      ],
      "execution_count": 15,
      "outputs": [
        {
          "output_type": "stream",
          "text": [
            "enter your number3\n",
            "enter second number3\n",
            "sum is 6\n",
            "subtraction is 0\n",
            "multiplication] is 9\n",
            "integer division is 1\n",
            "floating point division is 1.0\n"
          ],
          "name": "stdout"
        }
      ]
    }
  ]
}