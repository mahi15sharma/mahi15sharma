{
  "nbformat": 4,
  "nbformat_minor": 0,
  "metadata": {
    "colab": {
      "name": "ass-5.ipynb",
      "provenance": [],
      "collapsed_sections": []
    },
    "kernelspec": {
      "name": "python3",
      "display_name": "Python 3"
    },
    "language_info": {
      "name": "python"
    }
  },
  "cells": [
    {
      "cell_type": "code",
      "metadata": {
        "colab": {
          "base_uri": "https://localhost:8080/"
        },
        "id": "dpIMjI3IM3lE",
        "outputId": "6580a46b-9c4c-4de1-91fb-36ee11376254"
      },
      "source": [
        "num=int(input(\"enter any no\"))\n",
        "def prime(num):\n",
        "    if num>1:\n",
        "        s=int(num/2)\n",
        "        for i in range(2,s+1):\n",
        "            if num%i==0:\n",
        "                return(\"not prime\")\n",
        "                break\n",
        "        return(\"prime\")\n",
        "print(prime(num)) "
      ],
      "execution_count": 20,
      "outputs": [
        {
          "output_type": "stream",
          "text": [
            "enter any no7\n",
            "prime\n"
          ],
          "name": "stdout"
        }
      ]
    }
  ]
}