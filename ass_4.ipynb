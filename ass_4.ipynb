{
  "nbformat": 4,
  "nbformat_minor": 0,
  "metadata": {
    "colab": {
      "name": "ass-4.ipynb",
      "provenance": [],
      "collapsed_sections": []
    },
    "kernelspec": {
      "name": "python3",
      "display_name": "Python 3"
    },
    "language_info": {
      "name": "python"
    }
  },
  "cells": [
    {
      "cell_type": "code",
      "metadata": {
        "colab": {
          "base_uri": "https://localhost:8080/"
        },
        "id": "3l9PGnsNHqqs",
        "outputId": "6c3fb252-acd7-4b55-d915-58e5129a4064"
      },
      "source": [
        "ld=int(input(\"enter the  altitude for landing:\"))\n",
        "if ld <=1000:\n",
        " print(\"it is safer to land\")\n",
        "elif ld >1000 and ld <=5000:\n",
        "  print(\"Bring down to 1000\")\n",
        "else: \n",
        " print(\"Turn Around\")"
      ],
      "execution_count": 16,
      "outputs": [
        {
          "output_type": "stream",
          "text": [
            "enter the  altitude for landing:4500\n",
            "Bring down to 1000\n"
          ],
          "name": "stdout"
        }
      ]
    }
  ]
}