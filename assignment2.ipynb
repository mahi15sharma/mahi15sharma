{
  "nbformat": 4,
  "nbformat_minor": 0,
  "metadata": {
    "colab": {
      "name": "assignment2.ipynb",
      "provenance": [],
      "collapsed_sections": []
    },
    "kernelspec": {
      "name": "python3",
      "display_name": "Python 3"
    },
    "language_info": {
      "name": "python"
    }
  },
  "cells": [
    {
      "cell_type": "code",
      "metadata": {
        "colab": {
          "base_uri": "https://localhost:8080/"
        },
        "id": "BAjMpmewBx-s",
        "outputId": "b6a389d2-1938-4a79-9675-8d7d80b8beaf"
      },
      "source": [
        "import random\n",
        "maxtick=int(input(\"enter maximum numbers of tickets\"))\n",
        "p=[]\n",
        "for i in range(maxtick):  \n",
        " st=\"enter the participant name-\" + str(i+1) + \"-\"\n",
        " name=input(st)\n",
        " p.append(name)\n",
        "print(\"all participants are:\",p)\n",
        "n=random.randint(0,maxtick-1)\n",
        "print(\"winner of the lottery\",p[n])\n"
      ],
      "execution_count": 25,
      "outputs": [
        {
          "output_type": "stream",
          "text": [
            "enter maximum numbers of tickets5\n",
            "enter the participant name-1-mahi\n",
            "enter the participant name-2-rohit\n",
            "enter the participant name-3-reena\n",
            "enter the participant name-4-rita\n",
            "enter the participant name-5-raj\n",
            "all participants are: ['mahi', 'rohit', 'reena', 'rita', 'raj']\n",
            "winner of the lottery raj\n"
          ],
          "name": "stdout"
        }
      ]
    },
    {
      "cell_type": "code",
      "metadata": {
        "colab": {
          "base_uri": "https://localhost:8080/"
        },
        "id": "4xqSLauUFsn8",
        "outputId": "3b1a2f21-3d07-445d-d3fa-bc953f907b6e"
      },
      "source": [
        "contactno=int(input(\"enter maximum numbers of tickets\"))\n",
        "\n",
        "contactdic={}\n",
        "\n",
        "for i in range(contactno):\n",
        "   name=input(\"enter your name\") \n",
        "   mobno=input(\"enter your mobileno\") \n",
        "   email=input(\"enter your email address\") \n",
        "   adr=input(\"enter your address\") \n",
        "   pin=input(\"enter your pincode\") \n",
        "\n",
        "   contactdic[name]={\n",
        "       \"name--\":name,\n",
        "       \"mobile no is--\":mobno,\n",
        "       \"email address--\":email,\n",
        "       \"address is--\":adr,\n",
        "       \"pincode no is--\":pin\n",
        "      \n",
        "   }"
      ],
      "execution_count": 30,
      "outputs": [
        {
          "output_type": "stream",
          "text": [
            "enter maximum numbers of tickets1\n",
            "enter your namedf\n",
            "enter your mobilenoef\n",
            "enter your email addressef\n",
            "enter your addressef\n",
            "enter your pincodee\n"
          ],
          "name": "stdout"
        }
      ]
    },
    {
      "cell_type": "code",
      "metadata": {
        "colab": {
          "base_uri": "https://localhost:8080/"
        },
        "id": "TzAKa2JzIG-Z",
        "outputId": "52528b38-1e44-4889-94f8-7f1f93231b28"
      },
      "source": [
        "contactdic"
      ],
      "execution_count": 31,
      "outputs": [
        {
          "output_type": "execute_result",
          "data": {
            "text/plain": [
              "{'df': {'address is--': 'ef',\n",
              "  'email address--': 'ef',\n",
              "  'mobile no is--': 'ef',\n",
              "  'name--': 'df',\n",
              "  'pincode no is--': 'e'}}"
            ]
          },
          "metadata": {
            "tags": []
          },
          "execution_count": 31
        }
      ]
    }
  ]
}